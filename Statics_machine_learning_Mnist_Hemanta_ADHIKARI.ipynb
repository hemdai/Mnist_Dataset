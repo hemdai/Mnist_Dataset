{
 "cells": [
  {
   "cell_type": "code",
   "execution_count": 115,
   "metadata": {},
   "outputs": [],
   "source": [
    "import tensorflow as tf\n",
    "import numpy as np\n",
    "import matplotlib.pyplot as plt\n",
    "%matplotlib inline"
   ]
  },
  {
   "cell_type": "code",
   "execution_count": 116,
   "metadata": {},
   "outputs": [
    {
     "name": "stdout",
     "output_type": "stream",
     "text": [
      "train:  (60000, 28, 28)\n",
      "Test:  (10000, 28, 28)\n"
     ]
    }
   ],
   "source": [
    "from tensorflow.keras.datasets import mnist\n",
    "(Xtrain, ytrain), (Xtest, ytest) = mnist.load_data()\n",
    "\n",
    "#from mnist import mnist_load_data\n",
    "#(Xtrain, ytrain), (Xtest, ytest) = mnist_load_data()\n",
    "#may be the naming conventions is different But I am using this Xtrain\n",
    "\n",
    "print('train: ', Xtrain.shape)\n",
    "print('Test: ', Xtest.shape)"
   ]
  },
  {
   "cell_type": "code",
   "execution_count": 117,
   "metadata": {},
   "outputs": [
    {
     "name": "stdout",
     "output_type": "stream",
     "text": [
      "[[  0   0   0   0   0   0   0   0   0   0   0   0   0   0   0   0   0   0   0   0   0   0   0   0   0   0   0   0]\n",
      " [  0   0   0   0   0   0   0   0   0   0   0   0   0   0   0   0   0   0   0   0   0   0   0   0   0   0   0   0]\n",
      " [  0   0   0   0   0   0   0   0   0   0   0   0   0   0   0   0   0   0   0   0   0   0   0   0   0   0   0   0]\n",
      " [  0   0   0   0   0   0   0   0   0   0   0   0   0   0   0   0   0   0   0   0   0   0   0   0   0   0   0   0]\n",
      " [  0   0   0   0   0   0   0   0   0   0   0  42 118 219 166 118 118   6   0   0   0   0   0   0   0   0   0   0]\n",
      " [  0   0   0   0   0   0   0   0   0   0 103 242 254 254 254 254 254  66   0   0   0   0   0   0   0   0   0   0]\n",
      " [  0   0   0   0   0   0   0   0   0   0  18 232 254 254 254 254 254 238  70   0   0   0   0   0   0   0   0   0]\n",
      " [  0   0   0   0   0   0   0   0   0   0   0 104 244 254 224 254 254 254 141   0   0   0   0   0   0   0   0   0]\n",
      " [  0   0   0   0   0   0   0   0   0   0   0   0 207 254 210 254 254 254  34   0   0   0   0   0   0   0   0   0]\n",
      " [  0   0   0   0   0   0   0   0   0   0   0   0  84 206 254 254 254 254  41   0   0   0   0   0   0   0   0   0]\n",
      " [  0   0   0   0   0   0   0   0   0   0   0   0   0  24 209 254 254 254 171   0   0   0   0   0   0   0   0   0]\n",
      " [  0   0   0   0   0   0   0   0   0   0   0   0  91 137 253 254 254 254 112   0   0   0   0   0   0   0   0   0]\n",
      " [  0   0   0   0   0   0   0   0   0   0  40 214 250 254 254 254 254 254  34   0   0   0   0   0   0   0   0   0]\n",
      " [  0   0   0   0   0   0   0   0   0   0  81 247 254 254 254 254 254 254 146   0   0   0   0   0   0   0   0   0]\n",
      " [  0   0   0   0   0   0   0   0   0   0   0 110 246 254 254 254 254 254 171   0   0   0   0   0   0   0   0   0]\n",
      " [  0   0   0   0   0   0   0   0   0   0   0   0  73  89  89  93 240 254 171   0   0   0   0   0   0   0   0   0]\n",
      " [  0   0   0   0   0   0   0   0   0   0   0   0   0   0   0   1 128 254 219  31   0   0   0   0   0   0   0   0]\n",
      " [  0   0   0   0   0   0   0   0   0   0   0   0   0   0   0   7 254 254 214  28   0   0   0   0   0   0   0   0]\n",
      " [  0   0   0   0   0   0   0   0   0   0   0   0   0   0   0 138 254 254 116   0   0   0   0   0   0   0   0   0]\n",
      " [  0   0   0   0   0   0  19 177  90   0   0   0   0   0  25 240 254 254  34   0   0   0   0   0   0   0   0   0]\n",
      " [  0   0   0   0   0   0 164 254 215  63  36   0  51  89 206 254 254 139   8   0   0   0   0   0   0   0   0   0]\n",
      " [  0   0   0   0   0   0  57 197 254 254 222 180 241 254 254 253 213  11   0   0   0   0   0   0   0   0   0   0]\n",
      " [  0   0   0   0   0   0   0 140 105 254 254 254 254 254 254 236   0   0   0   0   0   0   0   0   0   0   0   0]\n",
      " [  0   0   0   0   0   0   0   0   7 117 117 165 254 254 239  50   0   0   0   0   0   0   0   0   0   0   0   0]\n",
      " [  0   0   0   0   0   0   0   0   0   0   0   0   0   0   0   0   0   0   0   0   0   0   0   0   0   0   0   0]\n",
      " [  0   0   0   0   0   0   0   0   0   0   0   0   0   0   0   0   0   0   0   0   0   0   0   0   0   0   0   0]\n",
      " [  0   0   0   0   0   0   0   0   0   0   0   0   0   0   0   0   0   0   0   0   0   0   0   0   0   0   0   0]\n",
      " [  0   0   0   0   0   0   0   0   0   0   0   0   0   0   0   0   0   0   0   0   0   0   0   0   0   0   0   0]]\n"
     ]
    },
    {
     "data": {
      "text/plain": [
       "<matplotlib.image.AxesImage at 0x161ec7af0>"
      ]
     },
     "execution_count": 117,
     "metadata": {},
     "output_type": "execute_result"
    },
    {
     "data": {
      "image/png": "[encoded data removed]",
      "text/plain": [
       "<Figure size 432x288 with 1 Axes>"
      ]
     },
     "metadata": {
      "needs_background": "light"
     },
     "output_type": "display_data"
    }
   ],
   "source": [
    "#here wer are defining the linewith to print our matrix form\n",
    "np.set_printoptions(threshold=np.inf, linewidth=280)\n",
    "print(Xtrain[10])\n",
    "plt.imshow(Xtrain[10])"
   ]
  },
  {
   "cell_type": "code",
   "execution_count": 52,
   "metadata": {},
   "outputs": [],
   "source": []
  },
  {
   "cell_type": "code",
   "execution_count": 118,
   "metadata": {},
   "outputs": [],
   "source": [
    "# converting values to in between 0 and 1\n",
    "# where is 0 is black and 1 is white colour\n",
    "Xtrain, Xtest = Xtrain / 255, Xtest / 255 "
   ]
  },
  {
   "cell_type": "code",
   "execution_count": 122,
   "metadata": {},
   "outputs": [],
   "source": [
    "# Define the Dense Neural Network Model\n",
    "# Here input shape is defined for universal 28 by 28 in Flattern form\n",
    "# so that the matrix is going to converted in column matrix form.\n",
    "# the dense model here define that the fully connected model which is\n",
    "# one neuran will take input from each and every inputs model\n",
    "# the while the input will be calculated with linear function in neurons after \n",
    "# this will be calculated further with non-linear function i.e relu\n",
    "# our last layer will be of 10 class as per our classification class\n",
    "# so our this 10 class will be connected with 256 previous dense neuron and this 256 neuron\n",
    "# are connected with 784 inputs\n",
    "# over all 28*28 = 784 inputs (0-255)--> 256 neurons(hidden layers) (0-9)--> 10 outputs\n",
    "\n",
    "model = tf.keras.models.Sequential([\n",
    "    tf.keras.layers.Flatten(input_shape=(28,28)),\n",
    "    tf.keras.layers.Dense(256, activation=tf.nn.relu),\n",
    "    tf.keras.layers.Dense(10, activation=tf.nn.softmax)\n",
    "])"
   ]
  },
  {
   "cell_type": "code",
   "execution_count": 123,
   "metadata": {},
   "outputs": [],
   "source": [
    "# here our optimizer is adam\n",
    "# we defined our loss as sparse_categorical_cressentropy\n",
    "model.compile(optimizer='adam',\n",
    "              loss='sparse_categorical_crossentropy',\n",
    "              metrics=['accuracy']\n",
    "             )"
   ]
  },
  {
   "cell_type": "code",
   "execution_count": 124,
   "metadata": {},
   "outputs": [
    {
     "name": "stdout",
     "output_type": "stream",
     "text": [
      "Epoch 1/10\n",
      "1875/1875 [==============================] - 2s 1ms/step - loss: 0.2263 - accuracy: 0.9336\n",
      "Epoch 2/10\n",
      "1875/1875 [==============================] - 2s 1ms/step - loss: 0.0938 - accuracy: 0.9722\n",
      "Epoch 3/10\n",
      "1875/1875 [==============================] - 2s 1ms/step - loss: 0.0615 - accuracy: 0.9811\n",
      "Epoch 4/10\n",
      "1875/1875 [==============================] - 2s 1ms/step - loss: 0.0447 - accuracy: 0.9858\n",
      "Epoch 5/10\n",
      "1875/1875 [==============================] - 2s 1ms/step - loss: 0.0331 - accuracy: 0.9896\n",
      "Epoch 6/10\n",
      "1875/1875 [==============================] - 2s 1ms/step - loss: 0.0251 - accuracy: 0.9923\n",
      "Epoch 7/10\n",
      "1875/1875 [==============================] - 2s 1ms/step - loss: 0.0199 - accuracy: 0.9937\n",
      "Epoch 8/10\n",
      "1875/1875 [==============================] - 2s 1ms/step - loss: 0.0169 - accuracy: 0.9944\n",
      "Epoch 9/10\n",
      "1875/1875 [==============================] - 2s 1ms/step - loss: 0.0133 - accuracy: 0.9955\n",
      "Epoch 10/10\n",
      "1875/1875 [==============================] - 2s 1ms/step - loss: 0.0110 - accuracy: 0.9964\n"
     ]
    }
   ],
   "source": [
    "history = model.fit(Xtrain,ytrain,epochs=10)\n",
    "# lets define this in histroy for our further ploting and analysis model"
   ]
  },
  {
   "cell_type": "code",
   "execution_count": 136,
   "metadata": {},
   "outputs": [
    {
     "data": {
      "text/plain": [
       "Text(0, 0.5, 'loss')"
      ]
     },
     "execution_count": 136,
     "metadata": {},
     "output_type": "execute_result"
    },
    {
     "data": {
      "image/png": "[encoded data removed]",
      "text/plain": [
       "<Figure size 432x288 with 1 Axes>"
      ]
     },
     "metadata": {
      "needs_background": "light"
     },
     "output_type": "display_data"
    }
   ],
   "source": [
    "plt.plot(history.history['loss'])\n",
    "plt.xlabel('Epochs')\n",
    "plt.ylabel('loss')"
   ]
  },
  {
   "cell_type": "code",
   "execution_count": null,
   "metadata": {},
   "outputs": [],
   "source": [
    "# from the graph it is shown that it is getting progress at the end. which means\n",
    "# if we could increase the epochs it will get more better results"
   ]
  },
  {
   "cell_type": "code",
   "execution_count": 127,
   "metadata": {},
   "outputs": [
    {
     "name": "stdout",
     "output_type": "stream",
     "text": [
      "313/313 [==============================] - 0s 899us/step - loss: 0.0733 - accuracy: 0.9808\n",
      "[0.07329941540956497, 0.9807999730110168]\n"
     ]
    }
   ],
   "source": [
    "DNN = model.evaluate(Xtest,ytest)\n",
    "print(DNN)"
   ]
  },
  {
   "cell_type": "markdown",
   "metadata": {},
   "source": [
    "# CNN"
   ]
  },
  {
   "cell_type": "code",
   "execution_count": 164,
   "metadata": {},
   "outputs": [],
   "source": [
    "# Load the Data and Reshape it\n",
    "# we are taking it as float 32 here \n",
    "# and make the data normalizaion\n",
    "# Next, we need to break the data down so that the neural network can digest it easier.**\n",
    "(Xtrain, ytrain), (Xtest, ytest) = mnist.load_data()\n",
    "input_shape = (28, 28, 1)\n",
    "Xtrain = Xtrain.reshape(Xtrain.shape[0],28, 28, 1)\n",
    "Xtest = Xtest.reshape(Xtest.shape[0],28,28,1)\n",
    "Xtrain = Xtrain.astype('float32')\n",
    "Xtest = Xtest.astype('float32')\n",
    "Xtrain, Xtest = Xtrain / 255, Xtest / 255"
   ]
  },
  {
   "cell_type": "markdown",
   "metadata": {},
   "source": [
    "we convert the y values (numbers) into ones and zeros, making each number categorical. This is called one-hot encoding. Without it, the neural network might categorize numbers based on how they are related numerically rather than how they look. To learn more about one-hot encoding,"
   ]
  },
  {
   "cell_type": "code",
   "execution_count": 129,
   "metadata": {},
   "outputs": [],
   "source": [
    "ytrain = tf.keras.utils.to_categorical(ytrain,10)\n",
    "ytest = tf.keras.utils.to_categorical(ytest,10)"
   ]
  },
  {
   "cell_type": "code",
   "execution_count": 130,
   "metadata": {},
   "outputs": [],
   "source": [
    "# now lets build the neural network. Here the layer are in different types of neuron.\n",
    "model2 = tf.keras.models.Sequential([\n",
    "        tf.keras.layers.Conv2D(32,kernel_size=(3,3), activation=tf.nn.relu,\n",
    "                                  input_shape=input_shape),\n",
    "        tf.keras.layers.Conv2D(64,(3,3), activation=tf.nn.relu ),\n",
    "        tf.keras.layers.MaxPooling2D(pool_size=(2,2)),\n",
    "        tf.keras.layers.Dropout(0.25),\n",
    "        tf.keras.layers.Flatten(),\n",
    "        tf.keras.layers.Dense(128,activation=tf.nn.relu),\n",
    "        tf.keras.layers.Dropout(0.5),\n",
    "        tf.keras.layers.Dense(10,activation=tf.nn.softmax)\n",
    "])"
   ]
  },
  {
   "cell_type": "markdown",
   "metadata": {},
   "source": [
    "Next, we need to train the model with the help of optimizer, number of epochs, or batch size. Depending on how fast the CPU is, this model can take some time to train."
   ]
  },
  {
   "cell_type": "code",
   "execution_count": 132,
   "metadata": {},
   "outputs": [
    {
     "name": "stdout",
     "output_type": "stream",
     "text": [
      "Epoch 1/10\n",
      "469/469 [==============================] - 41s 87ms/step - loss: 0.2381 - accuracy: 0.9275 - val_loss: 0.0517 - val_accuracy: 0.9824\n",
      "Epoch 2/10\n",
      "469/469 [==============================] - 46s 97ms/step - loss: 0.0857 - accuracy: 0.9748 - val_loss: 0.0459 - val_accuracy: 0.9852\n",
      "Epoch 3/10\n",
      "469/469 [==============================] - 44s 93ms/step - loss: 0.0639 - accuracy: 0.9812 - val_loss: 0.0349 - val_accuracy: 0.9883\n",
      "Epoch 4/10\n",
      "469/469 [==============================] - 43s 93ms/step - loss: 0.0528 - accuracy: 0.9836 - val_loss: 0.0346 - val_accuracy: 0.9882\n",
      "Epoch 5/10\n",
      "469/469 [==============================] - 44s 94ms/step - loss: 0.0452 - accuracy: 0.9857 - val_loss: 0.0311 - val_accuracy: 0.9906\n",
      "Epoch 6/10\n",
      "469/469 [==============================] - 45s 95ms/step - loss: 0.0400 - accuracy: 0.9877 - val_loss: 0.0273 - val_accuracy: 0.9911\n",
      "Epoch 7/10\n",
      "469/469 [==============================] - 43s 92ms/step - loss: 0.0365 - accuracy: 0.9883 - val_loss: 0.0261 - val_accuracy: 0.9922\n",
      "Epoch 8/10\n",
      "469/469 [==============================] - 44s 94ms/step - loss: 0.0307 - accuracy: 0.9904 - val_loss: 0.0245 - val_accuracy: 0.9921\n",
      "Epoch 9/10\n",
      "469/469 [==============================] - 44s 93ms/step - loss: 0.0269 - accuracy: 0.9913 - val_loss: 0.0253 - val_accuracy: 0.9914\n",
      "Epoch 10/10\n",
      "469/469 [==============================] - 44s 93ms/step - loss: 0.0258 - accuracy: 0.9913 - val_loss: 0.0273 - val_accuracy: 0.9922\n"
     ]
    }
   ],
   "source": [
    "model2.compile(loss=tf.keras.losses.categorical_crossentropy, optimizer='adam', metrics=['accuracy'])\n",
    "history_cnn = model2.fit(Xtrain,ytrain,\n",
    "           batch_size=128,\n",
    "           epochs=10, \n",
    "           validation_data=(Xtest,ytest))"
   ]
  },
  {
   "cell_type": "code",
   "execution_count": 133,
   "metadata": {},
   "outputs": [
    {
     "name": "stdout",
     "output_type": "stream",
     "text": [
      "313/313 [==============================] - 2s 5ms/step - loss: 0.0273 - accuracy: 0.9922\n"
     ]
    }
   ],
   "source": [
    "cnn = model2.evaluate(Xtest,ytest)"
   ]
  },
  {
   "cell_type": "code",
   "execution_count": 134,
   "metadata": {},
   "outputs": [
    {
     "name": "stdout",
     "output_type": "stream",
     "text": [
      "[0.02732304111123085, 0.9922000169754028]\n"
     ]
    }
   ],
   "source": [
    "print(cnn)"
   ]
  },
  {
   "cell_type": "code",
   "execution_count": 137,
   "metadata": {},
   "outputs": [
    {
     "data": {
      "text/plain": [
       "Text(0, 0.5, 'loss')"
      ]
     },
     "execution_count": 137,
     "metadata": {},
     "output_type": "execute_result"
    },
    {
     "data": {
      "image/png": "[encoded data removed]",
      "text/plain": [
       "<Figure size 432x288 with 1 Axes>"
      ]
     },
     "metadata": {
      "needs_background": "light"
     },
     "output_type": "display_data"
    }
   ],
   "source": [
    "plt.plot(history_cnn.history['loss'])\n",
    "plt.xlabel('Epochs')\n",
    "plt.ylabel('loss')"
   ]
  },
  {
   "cell_type": "markdown",
   "metadata": {},
   "source": [
    "# Sigmoid "
   ]
  },
  {
   "cell_type": "code",
   "execution_count": 149,
   "metadata": {},
   "outputs": [],
   "source": [
    "(Xtrain, ytrain), (Xtest, ytest) = mnist.load_data()"
   ]
  },
  {
   "cell_type": "code",
   "execution_count": 156,
   "metadata": {},
   "outputs": [],
   "source": [
    "Xtrain = Xtrain/255\n",
    "Xtest = Xtest/255\n",
    "Xtrain_flattened = Xtrain.reshape(len(Xtrain),28*28)\n",
    "Xtest_flattened = Xtest.reshape(len(Xtest),28*28)"
   ]
  },
  {
   "cell_type": "code",
   "execution_count": 157,
   "metadata": {},
   "outputs": [],
   "source": [
    "model3 = tf.keras.Sequential([\n",
    "    tf.keras.layers.Dense(10, input_shape=(784,),activation='sigmoid')\n",
    "])\n",
    "model3.compile(\n",
    "    optimizer='adam',\n",
    "    loss='sparse_categorical_crossentropy',\n",
    "    metrics=['accuracy']\n",
    ")\n"
   ]
  },
  {
   "cell_type": "code",
   "execution_count": 159,
   "metadata": {},
   "outputs": [
    {
     "name": "stdout",
     "output_type": "stream",
     "text": [
      "train:  (60000, 784)\n",
      "Test:  (10000, 784)\n"
     ]
    }
   ],
   "source": [
    "\n",
    "print('train: ', Xtrain_flattened.shape)\n",
    "print('Test: ', Xtest_flattened.shape)"
   ]
  },
  {
   "cell_type": "code",
   "execution_count": 161,
   "metadata": {},
   "outputs": [
    {
     "name": "stdout",
     "output_type": "stream",
     "text": [
      "Epoch 1/10\n",
      "1875/1875 [==============================] - 2s 876us/step - loss: 0.2630 - accuracy: 0.9278\n",
      "Epoch 2/10\n",
      "1875/1875 [==============================] - 2s 866us/step - loss: 0.2589 - accuracy: 0.9279\n",
      "Epoch 3/10\n",
      "1875/1875 [==============================] - 2s 863us/step - loss: 0.2555 - accuracy: 0.9294\n",
      "Epoch 4/10\n",
      "1875/1875 [==============================] - 2s 865us/step - loss: 0.2531 - accuracy: 0.9304\n",
      "Epoch 5/10\n",
      "1875/1875 [==============================] - 2s 862us/step - loss: 0.2505 - accuracy: 0.9309\n",
      "Epoch 6/10\n",
      "1875/1875 [==============================] - 2s 865us/step - loss: 0.2483 - accuracy: 0.9312\n",
      "Epoch 7/10\n",
      "1875/1875 [==============================] - 2s 869us/step - loss: 0.2467 - accuracy: 0.9321\n",
      "Epoch 8/10\n",
      "1875/1875 [==============================] - 2s 942us/step - loss: 0.2449 - accuracy: 0.9332\n",
      "Epoch 9/10\n",
      "1875/1875 [==============================] - 2s 874us/step - loss: 0.2435 - accuracy: 0.9328\n",
      "Epoch 10/10\n",
      "1875/1875 [==============================] - 2s 870us/step - loss: 0.2417 - accuracy: 0.9335\n"
     ]
    }
   ],
   "source": [
    "\n",
    "history3 = model3.fit(Xtrain_flattened,ytrain, epochs=10)"
   ]
  },
  {
   "cell_type": "code",
   "execution_count": 162,
   "metadata": {},
   "outputs": [
    {
     "name": "stdout",
     "output_type": "stream",
     "text": [
      "313/313 [==============================] - 0s 754us/step - loss: 0.2616 - accuracy: 0.9283\n"
     ]
    }
   ],
   "source": [
    "LNN = model3.evaluate(Xtest_flattened,ytest)"
   ]
  },
  {
   "cell_type": "code",
   "execution_count": 163,
   "metadata": {},
   "outputs": [
    {
     "data": {
      "text/plain": [
       "Text(0, 0.5, 'Loss')"
      ]
     },
     "execution_count": 163,
     "metadata": {},
     "output_type": "execute_result"
    },
    {
     "data": {
      "image/png": "[encoded data removed]",
      "text/plain": [
       "<Figure size 432x288 with 1 Axes>"
      ]
     },
     "metadata": {
      "needs_background": "light"
     },
     "output_type": "display_data"
    }
   ],
   "source": [
    "plt.plot(history.history['loss'])\n",
    "plt.xlabel('Epochs')\n",
    "plt.ylabel('Loss')"
   ]
  },
  {
   "cell_type": "code",
   "execution_count": null,
   "metadata": {},
   "outputs": [],
   "source": []
  },
  {
   "cell_type": "code",
   "execution_count": 189,
   "metadata": {},
   "outputs": [],
   "source": [
    "algo ={'cnn':cnn,'LNN':LNN,'DNN':DNN}"
   ]
  },
  {
   "cell_type": "code",
   "execution_count": 190,
   "metadata": {},
   "outputs": [],
   "source": [
    "loss = [cnn[0],LNN[0],DNN[0]]"
   ]
  },
  {
   "cell_type": "code",
   "execution_count": 191,
   "metadata": {},
   "outputs": [],
   "source": [
    "name = [key for key in algo]"
   ]
  },
  {
   "cell_type": "code",
   "execution_count": 192,
   "metadata": {},
   "outputs": [],
   "source": [
    "acc = [cnn[1],LNN[1],DNN[1]]"
   ]
  },
  {
   "cell_type": "code",
   "execution_count": 193,
   "metadata": {},
   "outputs": [
    {
     "data": {
      "image/png": "[encoded data removed]",
      "text/plain": [
       "<Figure size 432x288 with 1 Axes>"
      ]
     },
     "metadata": {
      "needs_background": "light"
     },
     "output_type": "display_data"
    }
   ],
   "source": [
    "labels = name\n",
    "accuracy = acc\n",
    "loss = loss\n",
    "\n",
    "x = np.arange(len(labels))  # the label locations\n",
    "width = 0.35  # the width of the bars\n",
    "\n",
    "fig, ax = plt.subplots()\n",
    "rects1 = ax.bar(x - width/2, accuracy, width, label='accuracy')\n",
    "rects2 = ax.bar(x + width/2, loss, width, label='loss')\n",
    "\n",
    "# Add some text for labels, title and custom x-axis tick labels, etc.\n",
    "ax.set_ylabel('Calculation')\n",
    "ax.set_title('Scores by Algo ')\n",
    "ax.set_xticks(x)\n",
    "ax.set_xticklabels(labels)\n",
    "ax.legend()\n",
    "\n",
    "\n",
    "def autolabel(rects):\n",
    "    \n",
    "    for rect in rects:\n",
    "        height = rect.get_height()\n",
    "        ax.annotate('{}'.format(height),\n",
    "                    xy=(rect.get_x() + rect.get_width() / 2, height),\n",
    "                    xytext=(0, 3),  # 3 points vertical offset\n",
    "                    textcoords=\"offset points\",\n",
    "                    ha='center', va='bottom')\n",
    "\n",
    "\n",
    "autolabel(rects1)\n",
    "autolabel(rects2)\n",
    "\n",
    "fig.tight_layout()\n",
    "\n",
    "plt.show()\n"
   ]
  },
  {
   "cell_type": "code",
   "execution_count": null,
   "metadata": {},
   "outputs": [],
   "source": []
  },
  {
   "cell_type": "code",
   "execution_count": null,
   "metadata": {},
   "outputs": [],
   "source": []
  }
 ],
 "metadata": {
  "kernelspec": {
   "display_name": "Python 3",
   "language": "python",
   "name": "python3"
  },
  "language_info": {
   "codemirror_mode": {
    "name": "ipython",
    "version": 3
   },
   "file_extension": ".py",
   "mimetype": "text/x-python",
   "name": "python",
   "nbconvert_exporter": "python",
   "pygments_lexer": "ipython3",
   "version": "3.8.3"
  }
 },
 "nbformat": 4,
 "nbformat_minor": 4
}
